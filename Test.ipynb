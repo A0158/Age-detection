{
 "cells": [
  {
   "cell_type": "code",
   "execution_count": 1,
   "metadata": {},
   "outputs": [],
   "source": [
    "import numpy as np\n",
    "import os\n",
    "import matplotlib.pyplot as plt\n",
    "from imutils import paths\n",
    "import cv2 as cv\n",
    "\n",
    "from tensorflow.keras.applications import MobileNetV2 \n",
    "from tensorflow.keras.layers import MaxPooling2D\n",
    "from tensorflow.keras.layers import AveragePooling2D\n",
    "from tensorflow.keras.layers import Dropout\n",
    "from tensorflow.keras.layers import Flatten\n",
    "from tensorflow.keras.layers import Dense\n",
    "from tensorflow.keras.layers import Input\n",
    "from tensorflow.keras.models import Model\n",
    "from tensorflow.keras.optimizers import Adam\n",
    "from tensorflow.keras.applications.mobilenet_v2 import preprocess_input\n",
    "\n",
    "from tensorflow.keras.preprocessing.image import ImageDataGenerator\n",
    "from tensorflow.keras.preprocessing.image import load_img\n",
    "from tensorflow.keras.preprocessing.image import img_to_array\n",
    "from tensorflow.keras.utils import to_categorical\n",
    "from sklearn.preprocessing import LabelBinarizer\n",
    "from sklearn.model_selection import train_test_split\n",
    "from sklearn.metrics import classification_report\n",
    "from tensorflow.keras.models import load_model\n",
    "\n",
    "from imutils.video import VideoStream\n",
    "import imutils"
   ]
  },
  {
   "cell_type": "code",
   "execution_count": 2,
   "metadata": {},
   "outputs": [],
   "source": [
    "model = load_model('model3.model')"
   ]
  },
  {
   "cell_type": "code",
   "execution_count": 3,
   "metadata": {},
   "outputs": [],
   "source": [
    "prototxtPath = os.path.sep.join(['/Users/kunal/Desktop/Age-Detection/deploy.prototxt'])\n",
    "weightsPath = os.path.sep.join(['/Users/kunal/Desktop/Age-Detection/res10_300x300_ssd_iter_140000.caffemodel'])"
   ]
  },
  {
   "cell_type": "code",
   "execution_count": 4,
   "metadata": {},
   "outputs": [],
   "source": [
    "faceNet = cv.dnn.readNet(prototxtPath, weightsPath)"
   ]
  },
  {
   "cell_type": "code",
   "execution_count": 5,
   "metadata": {},
   "outputs": [],
   "source": [
    "def detect_age(frame, faceNet, model):\n",
    "    #Take dimensions to make blob\n",
    "    (h,w) = frame.shape[:2]\n",
    "    blob = cv.dnn.blobFromImage(frame, 1.0, (300,300), (104.0, 177.0, 123.0))\n",
    "    \n",
    "    faceNet.setInput(blob)\n",
    "    detections = faceNet.forward()\n",
    "    \n",
    "    #initialise the list of faces, their correspondng locations and list of predictiob\n",
    "    faces = []\n",
    "    locs = []\n",
    "    preds = []\n",
    "    \n",
    "    for i in range(0, detections.shape[2]):\n",
    "        confidence = detections[0,0,i,2]\n",
    "        \n",
    "        if confidence > 0.5:\n",
    "            #coordinates of x and y\n",
    "            box = detections[0,0,i,3:7]*np.array([w,h,w,h])\n",
    "            (startX, startY, endX, endY) = box.astype('int')\n",
    "            \n",
    "            #ensure the bounding boxes fall within the dimension of the frame\n",
    "            (startX, startY) = (max(0, startX), max(0, startY))\n",
    "            (endX, endY) = (min(w-1, endX), min(h-1, endY))\n",
    "            \n",
    "            #convert ROI from BGR to RGB channel, resize ut to 224, 224 and preprocess it\n",
    "            face = frame[startY:endY, startX:endX]\n",
    "            face = cv.cvtColor(face, cv.COLOR_BGR2RGB)\n",
    "            face = cv.resize(face, (224, 224))\n",
    "            face = img_to_array(face)\n",
    "            face = preprocess_input(face)\n",
    "            \n",
    "            faces.append(face)\n",
    "            locs.append((startX, startY, endX, endY))\n",
    "            \n",
    "            \n",
    "        if len(faces)>0:\n",
    "            faces = np.array(faces, dtype = 'float32')\n",
    "            preds = model.predict(faces, batch_size = 12)\n",
    "            \n",
    "        return (locs, preds)"
   ]
  },
  {
   "cell_type": "code",
   "execution_count": 6,
   "metadata": {},
   "outputs": [],
   "source": [
    "vs = VideoStream(src = 0).start()\n",
    "\n",
    "while True:\n",
    "    #resize the frames\n",
    "    frame = vs.read()\n",
    "    frane = imutils.resize(frame, width = 400)\n",
    "    \n",
    "    #detect faces and age\n",
    "    (locs, preds) = detect_age(frame, faceNet, model)\n",
    "    \n",
    "    #loop over detected face \n",
    "    for (box, pred) in zip(locs, preds):\n",
    "        (startX, startY, endX, endY) = box\n",
    "        (major, minor) = pred\n",
    "        \n",
    "         #color and lobel of the bonding box and text\n",
    "        label = 'ADULT' if major>minor else 'MINOR'\n",
    "        color = (0,255, 0) if label == 'ADULT' else (0, 0, 255)\n",
    "            \n",
    "        #display the label and bonding boxes\n",
    "        cv.putText(frame, label, (startX, startY-10), cv.FONT_HERSHEY_SIMPLEX, 0.5, color, 2)\n",
    "            \n",
    "        cv.rectangle(frame,(startX, startY), (endX, endY), 2)\n",
    "            \n",
    "    cv.imshow('Frame', frame)\n",
    "    key = cv.waitKey(1) & 0xFF\n",
    "    \n",
    "    if key ==ord('q'):\n",
    "        break\n",
    "    \n",
    "cv.destroyAllWindows\n",
    "vs.stop()"
   ]
  },
  {
   "cell_type": "code",
   "execution_count": null,
   "metadata": {},
   "outputs": [],
   "source": []
  }
 ],
 "metadata": {
  "kernelspec": {
   "display_name": "Python 3",
   "language": "python",
   "name": "python3"
  },
  "language_info": {
   "codemirror_mode": {
    "name": "ipython",
    "version": 3
   },
   "file_extension": ".py",
   "mimetype": "text/x-python",
   "name": "python",
   "nbconvert_exporter": "python",
   "pygments_lexer": "ipython3",
   "version": "3.8.3"
  }
 },
 "nbformat": 4,
 "nbformat_minor": 4
}
